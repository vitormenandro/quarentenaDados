{
  "nbformat": 4,
  "nbformat_minor": 0,
  "metadata": {
    "colab": {
      "name": "QuarentenaDados - parte 2",
      "provenance": [],
      "authorship_tag": "ABX9TyPTSNuZVaiP1gq+SF2zeys4",
      "include_colab_link": true
    },
    "kernelspec": {
      "name": "python3",
      "display_name": "Python 3"
    }
  },
  "cells": [
    {
      "cell_type": "markdown",
      "metadata": {
        "id": "view-in-github",
        "colab_type": "text"
      },
      "source": [
        "<a href=\"https://colab.research.google.com/github/vitormenandro/quarentenaDados/blob/master/QuarentenaDados_parte_2.ipynb\" target=\"_parent\"><img src=\"https://colab.research.google.com/assets/colab-badge.svg\" alt=\"Open In Colab\"/></a>"
      ]
    },
    {
      "cell_type": "code",
      "metadata": {
        "id": "424lKidgSvuv",
        "colab_type": "code",
        "outputId": "7659f90f-3440-49fb-c94f-af6371459bf0",
        "colab": {
          "base_uri": "https://localhost:8080/",
          "height": 204
        }
      },
      "source": [
        "import pandas as pd\n",
        "filmes = pd.read_csv(\"https://raw.githubusercontent.com/vitormenandro/quarentenaDados/master/ml-latest-small/movies.csv\")\n",
        "filmes.columns = ['filmeId','titulo', 'genero']\n",
        "filmes.head()"
      ],
      "execution_count": 0,
      "outputs": [
        {
          "output_type": "execute_result",
          "data": {
            "text/html": [
              "<div>\n",
              "<style scoped>\n",
              "    .dataframe tbody tr th:only-of-type {\n",
              "        vertical-align: middle;\n",
              "    }\n",
              "\n",
              "    .dataframe tbody tr th {\n",
              "        vertical-align: top;\n",
              "    }\n",
              "\n",
              "    .dataframe thead th {\n",
              "        text-align: right;\n",
              "    }\n",
              "</style>\n",
              "<table border=\"1\" class=\"dataframe\">\n",
              "  <thead>\n",
              "    <tr style=\"text-align: right;\">\n",
              "      <th></th>\n",
              "      <th>filmeId</th>\n",
              "      <th>titulo</th>\n",
              "      <th>genero</th>\n",
              "    </tr>\n",
              "  </thead>\n",
              "  <tbody>\n",
              "    <tr>\n",
              "      <th>0</th>\n",
              "      <td>1</td>\n",
              "      <td>Toy Story (1995)</td>\n",
              "      <td>Adventure|Animation|Children|Comedy|Fantasy</td>\n",
              "    </tr>\n",
              "    <tr>\n",
              "      <th>1</th>\n",
              "      <td>2</td>\n",
              "      <td>Jumanji (1995)</td>\n",
              "      <td>Adventure|Children|Fantasy</td>\n",
              "    </tr>\n",
              "    <tr>\n",
              "      <th>2</th>\n",
              "      <td>3</td>\n",
              "      <td>Grumpier Old Men (1995)</td>\n",
              "      <td>Comedy|Romance</td>\n",
              "    </tr>\n",
              "    <tr>\n",
              "      <th>3</th>\n",
              "      <td>4</td>\n",
              "      <td>Waiting to Exhale (1995)</td>\n",
              "      <td>Comedy|Drama|Romance</td>\n",
              "    </tr>\n",
              "    <tr>\n",
              "      <th>4</th>\n",
              "      <td>5</td>\n",
              "      <td>Father of the Bride Part II (1995)</td>\n",
              "      <td>Comedy</td>\n",
              "    </tr>\n",
              "  </tbody>\n",
              "</table>\n",
              "</div>"
            ],
            "text/plain": [
              "   filmeId  ...                                       genero\n",
              "0        1  ...  Adventure|Animation|Children|Comedy|Fantasy\n",
              "1        2  ...                   Adventure|Children|Fantasy\n",
              "2        3  ...                               Comedy|Romance\n",
              "3        4  ...                         Comedy|Drama|Romance\n",
              "4        5  ...                                       Comedy\n",
              "\n",
              "[5 rows x 3 columns]"
            ]
          },
          "metadata": {
            "tags": []
          },
          "execution_count": 3
        }
      ]
    },
    {
      "cell_type": "code",
      "metadata": {
        "id": "eaUSmGELS-WW",
        "colab_type": "code",
        "outputId": "0910fa05-9be3-4927-9090-72eefb5a1d35",
        "colab": {
          "base_uri": "https://localhost:8080/",
          "height": 482
        }
      },
      "source": [
        "import matplotlib.pyplot as plt\n",
        "filmes['genero'].str.get_dummies('|').sum().sort_values(ascending=False).plot(\n",
        "    kind='pie', \n",
        "    title='Categorias de Filmes',\n",
        "    figsize=(8,8))\n",
        "plt.show()"
      ],
      "execution_count": 0,
      "outputs": [
        {
          "output_type": "display_data",
          "data": {
            "image/png": "[encoded data removed]",
            "text/plain": [
              "<Figure size 576x576 with 1 Axes>"
            ]
          },
          "metadata": {
            "tags": []
          }
        }
      ]
    },
    {
      "cell_type": "code",
      "metadata": {
        "id": "u30FPjjgTHC-",
        "colab_type": "code",
        "outputId": "a5eba03e-5fce-4f6c-cce3-5aca659ef1d1",
        "colab": {
          "base_uri": "https://localhost:8080/",
          "height": 577
        }
      },
      "source": [
        "filmes['genero'].str.get_dummies('|').sum().sort_values(ascending=False).plot(\n",
        "    kind='bar', \n",
        "    title='Categorias de Filmes',\n",
        "    figsize=(8,8))\n",
        "plt.show()"
      ],
      "execution_count": 0,
      "outputs": [
        {
          "output_type": "display_data",
          "data": {
            "image/png": "[encoded data removed]",
            "text/plain": [
              "<Figure size 576x576 with 1 Axes>"
            ]
          },
          "metadata": {
            "tags": [],
            "needs_background": "light"
          }
        }
      ]
    },
    {
      "cell_type": "code",
      "metadata": {
        "id": "Dd4N2-1YYoH3",
        "colab_type": "code",
        "outputId": "2b308bc0-a998-4ce4-b97e-67fdcee82863",
        "colab": {
          "base_uri": "https://localhost:8080/",
          "height": 483
        }
      },
      "source": [
        "import seaborn as sns\n",
        "\n",
        "filmes_por_genero = filmes['genero'].str.get_dummies('|').sum().sort_values(ascending=False)\n",
        "sns.set_style('whitegrid')\n",
        "plt.figure(figsize=(16,8))\n",
        "sns.barplot(x=filmes_por_genero.index,\n",
        "            y=filmes_por_genero.values,\n",
        "            palette=sns.color_palette('BuGn_r', n_colors=len(filmes_por_genero) + 4)) \n",
        "plt.show()"
      ],
      "execution_count": 0,
      "outputs": [
        {
          "output_type": "display_data",
          "data": {
            "image/png": "[encoded data removed]",
            "text/plain": [
              "<Figure size 1152x576 with 1 Axes>"
            ]
          },
          "metadata": {
            "tags": []
          }
        }
      ]
    },
    {
      "cell_type": "code",
      "metadata": {
        "id": "YC1jwvDeaJmG",
        "colab_type": "code",
        "outputId": "998100bb-3038-44b7-95ac-e0c482b08386",
        "colab": {
          "base_uri": "https://localhost:8080/",
          "height": 299
        }
      },
      "source": [
        "avaliacoes = pd.read_csv(\"https://github.com/vitormenandro/quarentenaDados/blob/master/ml-latest-small/ratings.csv?raw=true\")\n",
        "avaliacoes.columns = ['usuarioId','filmeId','nota', 'momento']\n",
        "notas_do_filme_1 = avaliacoes.query(\"filmeId == 1\")['nota']\n",
        "print(notas_do_filme_1.mean())\n",
        "notas_do_filme_1.plot(kind='hist')"
      ],
      "execution_count": 0,
      "outputs": [
        {
          "output_type": "stream",
          "text": [
            "3.9209302325581397\n"
          ],
          "name": "stdout"
        },
        {
          "output_type": "execute_result",
          "data": {
            "text/plain": [
              "<matplotlib.axes._subplots.AxesSubplot at 0x7fdc11f14358>"
            ]
          },
          "metadata": {
            "tags": []
          },
          "execution_count": 36
        },
        {
          "output_type": "display_data",
          "data": {
            "image/png": "[encoded data removed]",
            "text/plain": [
              "<Figure size 432x288 with 1 Axes>"
            ]
          },
          "metadata": {
            "tags": []
          }
        }
      ]
    },
    {
      "cell_type": "code",
      "metadata": {
        "id": "Ydz7Qnb6drAi",
        "colab_type": "code",
        "outputId": "97462674-82af-4011-d4f4-2f12f6249ff5",
        "colab": {
          "base_uri": "https://localhost:8080/",
          "height": 299
        }
      },
      "source": [
        "notas_do_filme_2 = avaliacoes.query(\"filmeId == 2\")['nota']\n",
        "print(notas_do_filme_2.mean())\n",
        "notas_do_filme_2.plot(kind='hist')"
      ],
      "execution_count": 0,
      "outputs": [
        {
          "output_type": "stream",
          "text": [
            "3.4318181818181817\n"
          ],
          "name": "stdout"
        },
        {
          "output_type": "execute_result",
          "data": {
            "text/plain": [
              "<matplotlib.axes._subplots.AxesSubplot at 0x7fdc11b47f98>"
            ]
          },
          "metadata": {
            "tags": []
          },
          "execution_count": 37
        },
        {
          "output_type": "display_data",
          "data": {
            "image/png": "[encoded data removed]",
            "text/plain": [
              "<Figure size 432x288 with 1 Axes>"
            ]
          },
          "metadata": {
            "tags": []
          }
        }
      ]
    },
    {
      "cell_type": "code",
      "metadata": {
        "id": "8uCPkV9kfRsL",
        "colab_type": "code",
        "outputId": "ab36d82d-d806-4d2f-fa7e-e30afe39d3dc",
        "colab": {
          "base_uri": "https://localhost:8080/",
          "height": 170
        }
      },
      "source": [
        "notas_do_filme_1.describe()"
      ],
      "execution_count": 0,
      "outputs": [
        {
          "output_type": "execute_result",
          "data": {
            "text/plain": [
              "count    215.000000\n",
              "mean       3.920930\n",
              "std        0.834859\n",
              "min        0.500000\n",
              "25%        3.500000\n",
              "50%        4.000000\n",
              "75%        4.500000\n",
              "max        5.000000\n",
              "Name: nota, dtype: float64"
            ]
          },
          "metadata": {
            "tags": []
          },
          "execution_count": 41
        }
      ]
    },
    {
      "cell_type": "code",
      "metadata": {
        "id": "ZK6Fn1stfV1p",
        "colab_type": "code",
        "outputId": "7b33e09f-b30c-4049-eecc-1775fd43dd6d",
        "colab": {
          "base_uri": "https://localhost:8080/",
          "height": 170
        }
      },
      "source": [
        "notas_do_filme_2.describe()"
      ],
      "execution_count": 0,
      "outputs": [
        {
          "output_type": "execute_result",
          "data": {
            "text/plain": [
              "count    110.000000\n",
              "mean       3.431818\n",
              "std        0.881713\n",
              "min        0.500000\n",
              "25%        3.000000\n",
              "50%        3.500000\n",
              "75%        4.000000\n",
              "max        5.000000\n",
              "Name: nota, dtype: float64"
            ]
          },
          "metadata": {
            "tags": []
          },
          "execution_count": 40
        }
      ]
    },
    {
      "cell_type": "code",
      "metadata": {
        "id": "Of1bAdj7fgBH",
        "colab_type": "code",
        "outputId": "5a47504a-de76-49ce-a538-6e052c35f13b",
        "colab": {
          "base_uri": "https://localhost:8080/",
          "height": 450
        }
      },
      "source": [
        "avaliacoes.groupby('filmeId').mean()"
      ],
      "execution_count": 0,
      "outputs": [
        {
          "output_type": "execute_result",
          "data": {
            "text/html": [
              "<div>\n",
              "<style scoped>\n",
              "    .dataframe tbody tr th:only-of-type {\n",
              "        vertical-align: middle;\n",
              "    }\n",
              "\n",
              "    .dataframe tbody tr th {\n",
              "        vertical-align: top;\n",
              "    }\n",
              "\n",
              "    .dataframe thead th {\n",
              "        text-align: right;\n",
              "    }\n",
              "</style>\n",
              "<table border=\"1\" class=\"dataframe\">\n",
              "  <thead>\n",
              "    <tr style=\"text-align: right;\">\n",
              "      <th></th>\n",
              "      <th>usuarioId</th>\n",
              "      <th>nota</th>\n",
              "      <th>momento</th>\n",
              "    </tr>\n",
              "    <tr>\n",
              "      <th>filmeId</th>\n",
              "      <th></th>\n",
              "      <th></th>\n",
              "      <th></th>\n",
              "    </tr>\n",
              "  </thead>\n",
              "  <tbody>\n",
              "    <tr>\n",
              "      <th>1</th>\n",
              "      <td>306.530233</td>\n",
              "      <td>3.920930</td>\n",
              "      <td>1.129835e+09</td>\n",
              "    </tr>\n",
              "    <tr>\n",
              "      <th>2</th>\n",
              "      <td>329.554545</td>\n",
              "      <td>3.431818</td>\n",
              "      <td>1.135805e+09</td>\n",
              "    </tr>\n",
              "    <tr>\n",
              "      <th>3</th>\n",
              "      <td>283.596154</td>\n",
              "      <td>3.259615</td>\n",
              "      <td>1.005110e+09</td>\n",
              "    </tr>\n",
              "    <tr>\n",
              "      <th>4</th>\n",
              "      <td>219.857143</td>\n",
              "      <td>2.357143</td>\n",
              "      <td>8.985789e+08</td>\n",
              "    </tr>\n",
              "    <tr>\n",
              "      <th>5</th>\n",
              "      <td>299.571429</td>\n",
              "      <td>3.071429</td>\n",
              "      <td>9.926643e+08</td>\n",
              "    </tr>\n",
              "    <tr>\n",
              "      <th>...</th>\n",
              "      <td>...</td>\n",
              "      <td>...</td>\n",
              "      <td>...</td>\n",
              "    </tr>\n",
              "    <tr>\n",
              "      <th>193581</th>\n",
              "      <td>184.000000</td>\n",
              "      <td>4.000000</td>\n",
              "      <td>1.537109e+09</td>\n",
              "    </tr>\n",
              "    <tr>\n",
              "      <th>193583</th>\n",
              "      <td>184.000000</td>\n",
              "      <td>3.500000</td>\n",
              "      <td>1.537110e+09</td>\n",
              "    </tr>\n",
              "    <tr>\n",
              "      <th>193585</th>\n",
              "      <td>184.000000</td>\n",
              "      <td>3.500000</td>\n",
              "      <td>1.537110e+09</td>\n",
              "    </tr>\n",
              "    <tr>\n",
              "      <th>193587</th>\n",
              "      <td>184.000000</td>\n",
              "      <td>3.500000</td>\n",
              "      <td>1.537110e+09</td>\n",
              "    </tr>\n",
              "    <tr>\n",
              "      <th>193609</th>\n",
              "      <td>331.000000</td>\n",
              "      <td>4.000000</td>\n",
              "      <td>1.537158e+09</td>\n",
              "    </tr>\n",
              "  </tbody>\n",
              "</table>\n",
              "<p>9724 rows × 3 columns</p>\n",
              "</div>"
            ],
            "text/plain": [
              "          usuarioId      nota       momento\n",
              "filmeId                                    \n",
              "1        306.530233  3.920930  1.129835e+09\n",
              "2        329.554545  3.431818  1.135805e+09\n",
              "3        283.596154  3.259615  1.005110e+09\n",
              "4        219.857143  2.357143  8.985789e+08\n",
              "5        299.571429  3.071429  9.926643e+08\n",
              "...             ...       ...           ...\n",
              "193581   184.000000  4.000000  1.537109e+09\n",
              "193583   184.000000  3.500000  1.537110e+09\n",
              "193585   184.000000  3.500000  1.537110e+09\n",
              "193587   184.000000  3.500000  1.537110e+09\n",
              "193609   331.000000  4.000000  1.537158e+09\n",
              "\n",
              "[9724 rows x 3 columns]"
            ]
          },
          "metadata": {
            "tags": []
          },
          "execution_count": 42
        }
      ]
    },
    {
      "cell_type": "code",
      "metadata": {
        "id": "xftuVcgKfr2m",
        "colab_type": "code",
        "outputId": "a4a74a7c-d452-4a77-cb9c-de2083a05e2a",
        "colab": {
          "base_uri": "https://localhost:8080/",
          "height": 1000
        }
      },
      "source": [
        "notas_medias_por_filme = avaliacoes.groupby('filmeId')['nota'].mean()\n",
        "filmes_com_media = filmes.join(notas_medias_por_filme, on='filmeId')\n",
        "filmes_com_media.sort_values('nota', ascending=False)[2450:2500]"
      ],
      "execution_count": 0,
      "outputs": [
        {
          "output_type": "execute_result",
          "data": {
            "text/html": [
              "<div>\n",
              "<style scoped>\n",
              "    .dataframe tbody tr th:only-of-type {\n",
              "        vertical-align: middle;\n",
              "    }\n",
              "\n",
              "    .dataframe tbody tr th {\n",
              "        vertical-align: top;\n",
              "    }\n",
              "\n",
              "    .dataframe thead th {\n",
              "        text-align: right;\n",
              "    }\n",
              "</style>\n",
              "<table border=\"1\" class=\"dataframe\">\n",
              "  <thead>\n",
              "    <tr style=\"text-align: right;\">\n",
              "      <th></th>\n",
              "      <th>filmeId</th>\n",
              "      <th>titulo</th>\n",
              "      <th>genero</th>\n",
              "      <th>nota</th>\n",
              "    </tr>\n",
              "  </thead>\n",
              "  <tbody>\n",
              "    <tr>\n",
              "      <th>745</th>\n",
              "      <td>973</td>\n",
              "      <td>Meet John Doe (1941)</td>\n",
              "      <td>Comedy|Drama</td>\n",
              "      <td>3.900000</td>\n",
              "    </tr>\n",
              "    <tr>\n",
              "      <th>6632</th>\n",
              "      <td>56251</td>\n",
              "      <td>Futurama: Bender's Big Score (2007)</td>\n",
              "      <td>Animation|Comedy|Sci-Fi</td>\n",
              "      <td>3.900000</td>\n",
              "    </tr>\n",
              "    <tr>\n",
              "      <th>101</th>\n",
              "      <td>116</td>\n",
              "      <td>Anne Frank Remembered (1995)</td>\n",
              "      <td>Documentary</td>\n",
              "      <td>3.900000</td>\n",
              "    </tr>\n",
              "    <tr>\n",
              "      <th>5719</th>\n",
              "      <td>27846</td>\n",
              "      <td>Corporation, The (2003)</td>\n",
              "      <td>Documentary</td>\n",
              "      <td>3.900000</td>\n",
              "    </tr>\n",
              "    <tr>\n",
              "      <th>802</th>\n",
              "      <td>1050</td>\n",
              "      <td>Looking for Richard (1996)</td>\n",
              "      <td>Documentary|Drama</td>\n",
              "      <td>3.900000</td>\n",
              "    </tr>\n",
              "    <tr>\n",
              "      <th>3983</th>\n",
              "      <td>5617</td>\n",
              "      <td>Secretary (2002)</td>\n",
              "      <td>Comedy|Drama|Romance</td>\n",
              "      <td>3.900000</td>\n",
              "    </tr>\n",
              "    <tr>\n",
              "      <th>1323</th>\n",
              "      <td>1785</td>\n",
              "      <td>King of New York (1990)</td>\n",
              "      <td>Crime|Thriller</td>\n",
              "      <td>3.900000</td>\n",
              "    </tr>\n",
              "    <tr>\n",
              "      <th>7103</th>\n",
              "      <td>70599</td>\n",
              "      <td>Time Traveler's Wife, The (2009)</td>\n",
              "      <td>Drama|Romance|Sci-Fi</td>\n",
              "      <td>3.900000</td>\n",
              "    </tr>\n",
              "    <tr>\n",
              "      <th>5248</th>\n",
              "      <td>8607</td>\n",
              "      <td>Tokyo Godfathers (2003)</td>\n",
              "      <td>Adventure|Animation|Drama</td>\n",
              "      <td>3.900000</td>\n",
              "    </tr>\n",
              "    <tr>\n",
              "      <th>4677</th>\n",
              "      <td>6985</td>\n",
              "      <td>Passion of Joan of Arc, The (Passion de Jeanne...</td>\n",
              "      <td>Drama</td>\n",
              "      <td>3.900000</td>\n",
              "    </tr>\n",
              "    <tr>\n",
              "      <th>86</th>\n",
              "      <td>97</td>\n",
              "      <td>Hate (Haine, La) (1995)</td>\n",
              "      <td>Crime|Drama</td>\n",
              "      <td>3.900000</td>\n",
              "    </tr>\n",
              "    <tr>\n",
              "      <th>4100</th>\n",
              "      <td>5876</td>\n",
              "      <td>Quiet American, The (2002)</td>\n",
              "      <td>Drama|Thriller|War</td>\n",
              "      <td>3.900000</td>\n",
              "    </tr>\n",
              "    <tr>\n",
              "      <th>4298</th>\n",
              "      <td>6283</td>\n",
              "      <td>Cowboy Bebop: The Movie (Cowboy Bebop: Tengoku...</td>\n",
              "      <td>Action|Animation|Sci-Fi|Thriller</td>\n",
              "      <td>3.900000</td>\n",
              "    </tr>\n",
              "    <tr>\n",
              "      <th>8533</th>\n",
              "      <td>114935</td>\n",
              "      <td>Predestination (2014)</td>\n",
              "      <td>Action|Mystery|Sci-Fi|Thriller</td>\n",
              "      <td>3.900000</td>\n",
              "    </tr>\n",
              "    <tr>\n",
              "      <th>7946</th>\n",
              "      <td>95858</td>\n",
              "      <td>For the Birds (2000)</td>\n",
              "      <td>Animation|Children|Comedy</td>\n",
              "      <td>3.900000</td>\n",
              "    </tr>\n",
              "    <tr>\n",
              "      <th>1630</th>\n",
              "      <td>2176</td>\n",
              "      <td>Rope (1948)</td>\n",
              "      <td>Crime|Drama|Thriller</td>\n",
              "      <td>3.900000</td>\n",
              "    </tr>\n",
              "    <tr>\n",
              "      <th>3016</th>\n",
              "      <td>4034</td>\n",
              "      <td>Traffic (2000)</td>\n",
              "      <td>Crime|Drama|Thriller</td>\n",
              "      <td>3.900000</td>\n",
              "    </tr>\n",
              "    <tr>\n",
              "      <th>4702</th>\n",
              "      <td>7018</td>\n",
              "      <td>Presumed Innocent (1990)</td>\n",
              "      <td>Crime|Drama|Thriller</td>\n",
              "      <td>3.900000</td>\n",
              "    </tr>\n",
              "    <tr>\n",
              "      <th>2156</th>\n",
              "      <td>2871</td>\n",
              "      <td>Deliverance (1972)</td>\n",
              "      <td>Adventure|Drama|Thriller</td>\n",
              "      <td>3.900000</td>\n",
              "    </tr>\n",
              "    <tr>\n",
              "      <th>9710</th>\n",
              "      <td>187595</td>\n",
              "      <td>Solo: A Star Wars Story (2018)</td>\n",
              "      <td>Action|Adventure|Children|Sci-Fi</td>\n",
              "      <td>3.900000</td>\n",
              "    </tr>\n",
              "    <tr>\n",
              "      <th>1051</th>\n",
              "      <td>1366</td>\n",
              "      <td>Crucible, The (1996)</td>\n",
              "      <td>Drama</td>\n",
              "      <td>3.900000</td>\n",
              "    </tr>\n",
              "    <tr>\n",
              "      <th>6613</th>\n",
              "      <td>55820</td>\n",
              "      <td>No Country for Old Men (2007)</td>\n",
              "      <td>Crime|Drama</td>\n",
              "      <td>3.898438</td>\n",
              "    </tr>\n",
              "    <tr>\n",
              "      <th>939</th>\n",
              "      <td>1240</td>\n",
              "      <td>Terminator, The (1984)</td>\n",
              "      <td>Action|Sci-Fi|Thriller</td>\n",
              "      <td>3.896947</td>\n",
              "    </tr>\n",
              "    <tr>\n",
              "      <th>267</th>\n",
              "      <td>307</td>\n",
              "      <td>Three Colors: Blue (Trois couleurs: Bleu) (1993)</td>\n",
              "      <td>Drama</td>\n",
              "      <td>3.895833</td>\n",
              "    </tr>\n",
              "    <tr>\n",
              "      <th>599</th>\n",
              "      <td>745</td>\n",
              "      <td>Wallace &amp; Gromit: A Close Shave (1995)</td>\n",
              "      <td>Animation|Children|Comedy</td>\n",
              "      <td>3.895833</td>\n",
              "    </tr>\n",
              "    <tr>\n",
              "      <th>706</th>\n",
              "      <td>924</td>\n",
              "      <td>2001: A Space Odyssey (1968)</td>\n",
              "      <td>Adventure|Drama|Sci-Fi</td>\n",
              "      <td>3.894495</td>\n",
              "    </tr>\n",
              "    <tr>\n",
              "      <th>2078</th>\n",
              "      <td>2762</td>\n",
              "      <td>Sixth Sense, The (1999)</td>\n",
              "      <td>Drama|Horror|Mystery</td>\n",
              "      <td>3.893855</td>\n",
              "    </tr>\n",
              "    <tr>\n",
              "      <th>1608</th>\n",
              "      <td>2150</td>\n",
              "      <td>Gods Must Be Crazy, The (1980)</td>\n",
              "      <td>Adventure|Comedy</td>\n",
              "      <td>3.892857</td>\n",
              "    </tr>\n",
              "    <tr>\n",
              "      <th>5165</th>\n",
              "      <td>8366</td>\n",
              "      <td>Saved! (2004)</td>\n",
              "      <td>Comedy|Drama</td>\n",
              "      <td>3.892857</td>\n",
              "    </tr>\n",
              "    <tr>\n",
              "      <th>1432</th>\n",
              "      <td>1955</td>\n",
              "      <td>Kramer vs. Kramer (1979)</td>\n",
              "      <td>Drama</td>\n",
              "      <td>3.892857</td>\n",
              "    </tr>\n",
              "    <tr>\n",
              "      <th>2191</th>\n",
              "      <td>2912</td>\n",
              "      <td>Limey, The (1999)</td>\n",
              "      <td>Crime|Drama|Thriller</td>\n",
              "      <td>3.892857</td>\n",
              "    </tr>\n",
              "    <tr>\n",
              "      <th>5572</th>\n",
              "      <td>26776</td>\n",
              "      <td>Porco Rosso (Crimson Pig) (Kurenai no buta) (1...</td>\n",
              "      <td>Adventure|Animation|Comedy|Fantasy|Romance</td>\n",
              "      <td>3.892857</td>\n",
              "    </tr>\n",
              "    <tr>\n",
              "      <th>198</th>\n",
              "      <td>232</td>\n",
              "      <td>Eat Drink Man Woman (Yin shi nan nu) (1994)</td>\n",
              "      <td>Comedy|Drama|Romance</td>\n",
              "      <td>3.892857</td>\n",
              "    </tr>\n",
              "    <tr>\n",
              "      <th>9223</th>\n",
              "      <td>152081</td>\n",
              "      <td>Zootopia (2016)</td>\n",
              "      <td>Action|Adventure|Animation|Children|Comedy</td>\n",
              "      <td>3.890625</td>\n",
              "    </tr>\n",
              "    <tr>\n",
              "      <th>5885</th>\n",
              "      <td>33166</td>\n",
              "      <td>Crash (2004)</td>\n",
              "      <td>Crime|Drama</td>\n",
              "      <td>3.890000</td>\n",
              "    </tr>\n",
              "    <tr>\n",
              "      <th>3564</th>\n",
              "      <td>4880</td>\n",
              "      <td>Life as a House (2001)</td>\n",
              "      <td>Drama</td>\n",
              "      <td>3.888889</td>\n",
              "    </tr>\n",
              "    <tr>\n",
              "      <th>4258</th>\n",
              "      <td>6214</td>\n",
              "      <td>Irreversible (Irréversible) (2002)</td>\n",
              "      <td>Crime|Drama|Mystery|Thriller</td>\n",
              "      <td>3.888889</td>\n",
              "    </tr>\n",
              "    <tr>\n",
              "      <th>6884</th>\n",
              "      <td>63072</td>\n",
              "      <td>Road, The (2009)</td>\n",
              "      <td>Adventure|Drama|Thriller</td>\n",
              "      <td>3.888889</td>\n",
              "    </tr>\n",
              "    <tr>\n",
              "      <th>7078</th>\n",
              "      <td>69844</td>\n",
              "      <td>Harry Potter and the Half-Blood Prince (2009)</td>\n",
              "      <td>Adventure|Fantasy|Mystery|Romance|IMAX</td>\n",
              "      <td>3.887931</td>\n",
              "    </tr>\n",
              "    <tr>\n",
              "      <th>785</th>\n",
              "      <td>1028</td>\n",
              "      <td>Mary Poppins (1964)</td>\n",
              "      <td>Children|Comedy|Fantasy|Musical</td>\n",
              "      <td>3.887324</td>\n",
              "    </tr>\n",
              "    <tr>\n",
              "      <th>7413</th>\n",
              "      <td>80463</td>\n",
              "      <td>Social Network, The (2010)</td>\n",
              "      <td>Drama</td>\n",
              "      <td>3.885965</td>\n",
              "    </tr>\n",
              "    <tr>\n",
              "      <th>6151</th>\n",
              "      <td>44191</td>\n",
              "      <td>V for Vendetta (2006)</td>\n",
              "      <td>Action|Sci-Fi|Thriller|IMAX</td>\n",
              "      <td>3.885000</td>\n",
              "    </tr>\n",
              "    <tr>\n",
              "      <th>7688</th>\n",
              "      <td>89492</td>\n",
              "      <td>Moneyball (2011)</td>\n",
              "      <td>Drama</td>\n",
              "      <td>3.884615</td>\n",
              "    </tr>\n",
              "    <tr>\n",
              "      <th>6223</th>\n",
              "      <td>45728</td>\n",
              "      <td>Clerks II (2006)</td>\n",
              "      <td>Comedy</td>\n",
              "      <td>3.884615</td>\n",
              "    </tr>\n",
              "    <tr>\n",
              "      <th>912</th>\n",
              "      <td>1211</td>\n",
              "      <td>Wings of Desire (Himmel über Berlin, Der) (1987)</td>\n",
              "      <td>Drama|Fantasy|Romance</td>\n",
              "      <td>3.884615</td>\n",
              "    </tr>\n",
              "    <tr>\n",
              "      <th>6242</th>\n",
              "      <td>46578</td>\n",
              "      <td>Little Miss Sunshine (2006)</td>\n",
              "      <td>Adventure|Comedy|Drama</td>\n",
              "      <td>3.883117</td>\n",
              "    </tr>\n",
              "    <tr>\n",
              "      <th>1230</th>\n",
              "      <td>1635</td>\n",
              "      <td>Ice Storm, The (1997)</td>\n",
              "      <td>Drama</td>\n",
              "      <td>3.882353</td>\n",
              "    </tr>\n",
              "    <tr>\n",
              "      <th>225</th>\n",
              "      <td>261</td>\n",
              "      <td>Little Women (1994)</td>\n",
              "      <td>Drama</td>\n",
              "      <td>3.880952</td>\n",
              "    </tr>\n",
              "    <tr>\n",
              "      <th>701</th>\n",
              "      <td>919</td>\n",
              "      <td>Wizard of Oz, The (1939)</td>\n",
              "      <td>Adventure|Children|Fantasy|Musical</td>\n",
              "      <td>3.880435</td>\n",
              "    </tr>\n",
              "    <tr>\n",
              "      <th>968</th>\n",
              "      <td>1269</td>\n",
              "      <td>Arsenic and Old Lace (1944)</td>\n",
              "      <td>Comedy|Mystery|Thriller</td>\n",
              "      <td>3.879310</td>\n",
              "    </tr>\n",
              "  </tbody>\n",
              "</table>\n",
              "</div>"
            ],
            "text/plain": [
              "      filmeId  ...      nota\n",
              "745       973  ...  3.900000\n",
              "6632    56251  ...  3.900000\n",
              "101       116  ...  3.900000\n",
              "5719    27846  ...  3.900000\n",
              "802      1050  ...  3.900000\n",
              "3983     5617  ...  3.900000\n",
              "1323     1785  ...  3.900000\n",
              "7103    70599  ...  3.900000\n",
              "5248     8607  ...  3.900000\n",
              "4677     6985  ...  3.900000\n",
              "86         97  ...  3.900000\n",
              "4100     5876  ...  3.900000\n",
              "4298     6283  ...  3.900000\n",
              "8533   114935  ...  3.900000\n",
              "7946    95858  ...  3.900000\n",
              "1630     2176  ...  3.900000\n",
              "3016     4034  ...  3.900000\n",
              "4702     7018  ...  3.900000\n",
              "2156     2871  ...  3.900000\n",
              "9710   187595  ...  3.900000\n",
              "1051     1366  ...  3.900000\n",
              "6613    55820  ...  3.898438\n",
              "939      1240  ...  3.896947\n",
              "267       307  ...  3.895833\n",
              "599       745  ...  3.895833\n",
              "706       924  ...  3.894495\n",
              "2078     2762  ...  3.893855\n",
              "1608     2150  ...  3.892857\n",
              "5165     8366  ...  3.892857\n",
              "1432     1955  ...  3.892857\n",
              "2191     2912  ...  3.892857\n",
              "5572    26776  ...  3.892857\n",
              "198       232  ...  3.892857\n",
              "9223   152081  ...  3.890625\n",
              "5885    33166  ...  3.890000\n",
              "3564     4880  ...  3.888889\n",
              "4258     6214  ...  3.888889\n",
              "6884    63072  ...  3.888889\n",
              "7078    69844  ...  3.887931\n",
              "785      1028  ...  3.887324\n",
              "7413    80463  ...  3.885965\n",
              "6151    44191  ...  3.885000\n",
              "7688    89492  ...  3.884615\n",
              "6223    45728  ...  3.884615\n",
              "912      1211  ...  3.884615\n",
              "6242    46578  ...  3.883117\n",
              "1230     1635  ...  3.882353\n",
              "225       261  ...  3.880952\n",
              "701       919  ...  3.880435\n",
              "968      1269  ...  3.879310\n",
              "\n",
              "[50 rows x 4 columns]"
            ]
          },
          "metadata": {
            "tags": []
          },
          "execution_count": 49
        }
      ]
    },
    {
      "cell_type": "code",
      "metadata": {
        "id": "-JdxPwmQf-Z4",
        "colab_type": "code",
        "colab": {}
      },
      "source": [
        "def plot_filme(n):\n",
        "  notas_do_filme = avaliacoes.query(f\"filmeId == {n}\")['nota']\n",
        "  notas_do_filme.plot(kind='hist')\n",
        "  plt.show()\n",
        "  notas_do_filme.plot.box()\n",
        "  plt.show()\n",
        "  return notas_do_filme.describe()"
      ],
      "execution_count": 0,
      "outputs": []
    },
    {
      "cell_type": "code",
      "metadata": {
        "id": "KadvJ1A2hLtx",
        "colab_type": "code",
        "outputId": "10ce40f3-6b6d-4bbd-dddc-4432ffd8b518",
        "colab": {
          "base_uri": "https://localhost:8080/",
          "height": 666
        }
      },
      "source": [
        "plot_filme(919)"
      ],
      "execution_count": 0,
      "outputs": [
        {
          "output_type": "display_data",
          "data": {
            "image/png": "[encoded data removed]",
            "text/plain": [
              "<Figure size 432x288 with 1 Axes>"
            ]
          },
          "metadata": {
            "tags": []
          }
        },
        {
          "output_type": "display_data",
          "data": {
            "image/png": "[encoded data removed]",
            "text/plain": [
              "<Figure size 432x288 with 1 Axes>"
            ]
          },
          "metadata": {
            "tags": []
          }
        },
        {
          "output_type": "execute_result",
          "data": {
            "text/plain": [
              "count    92.000000\n",
              "mean      3.880435\n",
              "std       1.025418\n",
              "min       1.000000\n",
              "25%       3.000000\n",
              "50%       4.000000\n",
              "75%       5.000000\n",
              "max       5.000000\n",
              "Name: nota, dtype: float64"
            ]
          },
          "metadata": {
            "tags": []
          },
          "execution_count": 58
        }
      ]
    },
    {
      "cell_type": "code",
      "metadata": {
        "id": "pUUVNR1ahOfD",
        "colab_type": "code",
        "outputId": "af807b68-5df0-4c9f-fbe1-4b725cb8af89",
        "colab": {
          "base_uri": "https://localhost:8080/",
          "height": 296
        }
      },
      "source": [
        "sns.boxplot(data = avaliacoes.query('filmeId in [1,2,919,46578]'), x = 'filmeId', y = 'nota')"
      ],
      "execution_count": 0,
      "outputs": [
        {
          "output_type": "execute_result",
          "data": {
            "text/plain": [
              "<matplotlib.axes._subplots.AxesSubplot at 0x7fdc12023dd8>"
            ]
          },
          "metadata": {
            "tags": []
          },
          "execution_count": 59
        },
        {
          "output_type": "display_data",
          "data": {
            "image/png": "[encoded data removed]",
            "text/plain": [
              "<Figure size 432x288 with 1 Axes>"
            ]
          },
          "metadata": {
            "tags": []
          }
        }
      ]
    },
    {
      "cell_type": "code",
      "metadata": {
        "id": "jS5zpl6GkiW5",
        "colab_type": "code",
        "colab": {}
      },
      "source": [
        ""
      ],
      "execution_count": 0,
      "outputs": []
    }
  ]
}